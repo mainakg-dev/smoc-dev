{
 "cells": [
  {
   "cell_type": "code",
   "execution_count": 1,
   "id": "10daab7e",
   "metadata": {},
   "outputs": [
    {
     "name": "stderr",
     "output_type": "stream",
     "text": [
      "25/10/15 07:52:12 WARN SparkSession: Using an existing Spark session; only runtime SQL configurations will take effect.\n",
      "25/10/15 07:52:13 WARN MetricsConfig: Cannot locate configuration: tried hadoop-metrics2-s3a-file-system.properties,hadoop-metrics2.properties\n"
     ]
    },
    {
     "name": "stdout",
     "output_type": "stream",
     "text": [
      "+--------------------+-------------------+------------------------+----------------------------+------------------------+----------------------------+------------------+------------------+------------------+-----------------+-----------------+-----------------+------------------+------------------+\n",
      "|            meter_id|          timestamp|active_energy_import_kwh|reactive_energy_import_kvarh|active_energy_export_kwh|reactive_energy_export_kvarh|  voltage_phase1_v|  voltage_phase2_v|  voltage_phase3_v| current_phase1_a| current_phase2_a| current_phase3_a| maximum_demand_kw|      power_factor|\n",
      "+--------------------+-------------------+------------------------+----------------------------+------------------------+----------------------------+------------------+------------------+------------------+-----------------+-----------------+-----------------+------------------+------------------+\n",
      "|21df6c28-998f-4ab...|2025-06-10 12:00:00|      0.4379730605950161|         0.06569595908925241|                     0.0|                         0.0|229.52678138974275|228.12975031993852|233.59657679553777| 69.3196622242067|68.87484490954066| 67.3953243514443|12.893926903917276|0.9476778411626129|\n",
      "|21df6c28-998f-4ab...|2025-06-10 12:15:00|      0.8903427289801605|         0.13355140934702409|                     0.0|                         0.0|228.28615537297387|225.99017253106746|233.30093570388016|71.50035823606467|73.14815121921275|69.06007830725918|13.317763037258652|0.9863396760757254|\n",
      "+--------------------+-------------------+------------------------+----------------------------+------------------------+----------------------------+------------------+------------------+------------------+-----------------+-----------------+-----------------+------------------+------------------+\n",
      "only showing top 2 rows\n",
      "\n"
     ]
    }
   ],
   "source": [
    "from pyspark.sql import SparkSession\n",
    "spark = SparkSession.builder \\\n",
    "    .appName(\"readFile\") \\\n",
    "    .getOrCreate()\n",
    "\n",
    "csv_path = \"s3a://warehouse/smart_meter_measurements.csv\"\n",
    "df = spark.read.option(\"header\",\"true\").csv(csv_path)\n",
    "df.show(2)"
   ]
  },
  {
   "cell_type": "code",
   "execution_count": 2,
   "id": "27cea92b-5b1c-4261-b522-01e594f60a00",
   "metadata": {},
   "outputs": [
    {
     "name": "stderr",
     "output_type": "stream",
     "text": [
      "                                                                                \r"
     ]
    },
    {
     "name": "stdout",
     "output_type": "stream",
     "text": [
      "done\n"
     ]
    }
   ],
   "source": [
    "\n",
    "# normal\n",
    "\n",
    "iceberg_table = \"rest.default.smart_meter_measurements\"\n",
    "\n",
    "# Write the dataframe to Iceberg table, creating the table if it does not exist\n",
    "# df.write.format(\"iceberg\").mode(\"overwrite\").saveAsTable(iceberg_table)\n",
    "\n",
    "\n",
    "# modified\n",
    "\n",
    "from pyspark.sql.functions import col\n",
    "\n",
    "df_transformed = df.select(\n",
    "    col(\"meter_id\").cast(\"string\"),\n",
    "    col(\"timestamp\").cast(\"timestamp\").alias(\"readingtime\"),\n",
    "    col(\"active_energy_import_kwh\").cast(\"double\"),\n",
    "    col(\"reactive_energy_import_kvarh\").cast(\"double\"),\n",
    "    col(\"active_energy_export_kwh\").cast(\"double\"),\n",
    "    col(\"reactive_energy_export_kvarh\").cast(\"double\"),\n",
    "    col(\"voltage_phase1_v\").cast(\"double\"),\n",
    "    col(\"voltage_phase2_v\").cast(\"double\"),\n",
    "    col(\"voltage_phase3_v\").cast(\"double\"),\n",
    "    col(\"current_phase1_a\").cast(\"double\"),\n",
    "    col(\"current_phase2_a\").cast(\"double\"),\n",
    "    col(\"current_phase3_a\").cast(\"double\"),\n",
    "    col(\"maximum_demand_kw\").cast(\"double\"),\n",
    "    col(\"power_factor\").cast(\"double\"),\n",
    ")\n",
    "\n",
    "# Write to Iceberg table\n",
    "df_transformed.writeTo(iceberg_table).createOrReplace()\n",
    "\n",
    "print(\"done\")"
   ]
  },
  {
   "cell_type": "code",
   "execution_count": 3,
   "id": "d0305009-4959-4ca2-ae8c-602ad13b847c",
   "metadata": {},
   "outputs": [
    {
     "name": "stdout",
     "output_type": "stream",
     "text": [
      "+------------------+\n",
      "|current_database()|\n",
      "+------------------+\n",
      "|           default|\n",
      "+------------------+\n",
      "\n"
     ]
    }
   ],
   "source": [
    "spark.sql(\"SELECT current_database()\").show()\n"
   ]
  },
  {
   "cell_type": "code",
   "execution_count": 6,
   "id": "9ab3378b-e9d6-440e-a517-529712722bdc",
   "metadata": {},
   "outputs": [
    {
     "name": "stdout",
     "output_type": "stream",
     "text": [
      "+-------+---------+\n",
      "|catalog|namespace|\n",
      "+-------+---------+\n",
      "|   rest|  default|\n",
      "+-------+---------+\n",
      "\n"
     ]
    }
   ],
   "source": [
    "spark.sql(\"SHOW CURRENT NAMESPACE\").show()"
   ]
  },
  {
   "cell_type": "code",
   "execution_count": 6,
   "id": "78d1e57c-21be-474b-9ef5-8a930e431455",
   "metadata": {},
   "outputs": [
    {
     "name": "stdout",
     "output_type": "stream",
     "text": [
      "+---------+\n",
      "|namespace|\n",
      "+---------+\n",
      "|  default|\n",
      "+---------+\n",
      "\n"
     ]
    }
   ],
   "source": [
    "spark.sql(\"SHOW NAMESPACES IN rest\").show()\n"
   ]
  },
  {
   "cell_type": "code",
   "execution_count": null,
   "id": "00f3b2a3-a623-4cbc-a4c3-7400d1e81d2e",
   "metadata": {},
   "outputs": [],
   "source": [
    "spark.sql(\"CREATE NAMESPACE rest.default\")"
   ]
  },
  {
   "cell_type": "code",
   "execution_count": 5,
   "id": "5c9e392f-2ae9-4b65-888e-0f3a79478ad4",
   "metadata": {},
   "outputs": [
    {
     "name": "stderr",
     "output_type": "stream",
     "text": [
      "25/10/15 07:56:01 WARN HiveConf: HiveConf of name hive.stats.jdbc.timeout does not exist\n",
      "25/10/15 07:56:01 WARN HiveConf: HiveConf of name hive.stats.retries.wait does not exist\n",
      "25/10/15 07:56:05 WARN ObjectStore: Version information not found in metastore. hive.metastore.schema.verification is not enabled so recording the schema version 2.3.0\n",
      "25/10/15 07:56:05 WARN ObjectStore: setMetaStoreSchemaVersion called but recording version is disabled: version = 2.3.0, comment = Set by MetaStore UNKNOWN@172.19.0.6\n",
      "25/10/15 07:56:05 WARN ObjectStore: Failed to get database global_temp, returning NoSuchObjectException\n"
     ]
    },
    {
     "data": {
      "text/plain": [
       "DataFrame[]"
      ]
     },
     "execution_count": 5,
     "metadata": {},
     "output_type": "execute_result"
    }
   ],
   "source": [
    "spark.sql(\"USE rest.default\")"
   ]
  },
  {
   "cell_type": "code",
   "execution_count": 9,
   "id": "2ddde574-2ed8-47b9-bfa9-5a085a943529",
   "metadata": {},
   "outputs": [
    {
     "name": "stdout",
     "output_type": "stream",
     "text": [
      "+-------+---------+\n",
      "|catalog|namespace|\n",
      "+-------+---------+\n",
      "|   rest|  default|\n",
      "+-------+---------+\n",
      "\n"
     ]
    }
   ],
   "source": [
    "spark.sql(\"SHOW CURRENT NAMESPACE\").show()"
   ]
  },
  {
   "cell_type": "code",
   "execution_count": null,
   "id": "be242d56-8ef1-4c49-ae01-5e0280cd8671",
   "metadata": {},
   "outputs": [],
   "source": []
  }
 ],
 "metadata": {
  "kernelspec": {
   "display_name": "Python 3 (ipykernel)",
   "language": "python",
   "name": "python3"
  },
  "language_info": {
   "codemirror_mode": {
    "name": "ipython",
    "version": 3
   },
   "file_extension": ".py",
   "mimetype": "text/x-python",
   "name": "python",
   "nbconvert_exporter": "python",
   "pygments_lexer": "ipython3",
   "version": "3.10.16"
  }
 },
 "nbformat": 4,
 "nbformat_minor": 5
}
